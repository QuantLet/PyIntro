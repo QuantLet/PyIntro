{
 "cells": [
  {
   "cell_type": "markdown",
   "id": "b7fd7320",
   "metadata": {},
   "source": [
    "## Basics of Language"
   ]
  },
  {
   "cell_type": "markdown",
   "id": "96d3245d",
   "metadata": {},
   "source": []
  },
  {
   "cell_type": "markdown",
   "id": "aed64ae1",
   "metadata": {},
   "source": [
    "In python everything is an object having both \"methods\" as well as \"attributes\" accesible via syntax \"Object.MethodName\". \n",
    "\n",
    "By assigning a variable, we are creatng 'reference'. To check it, use \"is\".\n",
    "\n",
    "One uses '<b>indentation</b>, not braces or semicolons!\n",
    "\n",
    "Comments follow hashtag #\n",
    "\n",
    "Enumerating starts with 0."
   ]
  },
  {
   "cell_type": "code",
   "execution_count": 1,
   "id": "700e474b",
   "metadata": {},
   "outputs": [
    {
     "name": "stdout",
     "output_type": "stream",
     "text": [
      "-- Our output will follow --\n",
      "[1, 2, 2, 5, 6, 6]\n",
      "At position 0 is number: 1\n",
      "At position 4 is number: 6\n"
     ]
    },
    {
     "data": {
      "text/plain": [
       "True"
      ]
     },
     "execution_count": 1,
     "metadata": {},
     "output_type": "execute_result"
    }
   ],
   "source": [
    "SomeSet = [1,2,2,5,6]\n",
    "# nice first comment\n",
    "AnotherSet = SomeSet\n",
    "SomeSet.append(6)\n",
    "print('-- Our output will follow --')\n",
    "print(AnotherSet)\n",
    "print('At position 0 is number:', AnotherSet[0])\n",
    "print('At position 4 is number: ' + str(AnotherSet[4]))\n",
    "SomeSet is AnotherSet"
   ]
  },
  {
   "cell_type": "markdown",
   "id": "d7689e52",
   "metadata": {},
   "source": [
    "We see that 'SomeSet' and 'AnotherSet' are '<b>referencing</b>' to the same 'object'!\n",
    "\n",
    "(Note: In contrary to f.e. Java, reference itself has no type.)"
   ]
  },
  {
   "cell_type": "code",
   "execution_count": 2,
   "id": "c8dfe0cd",
   "metadata": {},
   "outputs": [
    {
     "data": {
      "text/plain": [
       "True"
      ]
     },
     "execution_count": 2,
     "metadata": {},
     "output_type": "execute_result"
    }
   ],
   "source": [
    "AnotherSet[0] == 1"
   ]
  },
  {
   "cell_type": "markdown",
   "id": "20f69a4d",
   "metadata": {},
   "source": [
    " "
   ]
  },
  {
   "cell_type": "markdown",
   "id": "90f7adb5",
   "metadata": {},
   "source": [
    "\n",
    "\n",
    "Standart build-in keywords for <b>control flow</b> such as 'for'-cycle or 'if'-conditioning similar to other languages."
   ]
  },
  {
   "cell_type": "code",
   "execution_count": 3,
   "id": "436d4c32",
   "metadata": {},
   "outputs": [
    {
     "name": "stdout",
     "output_type": "stream",
     "text": [
      "still smaller than 3\n",
      "still smaller than 3\n",
      "still smaller than 3\n",
      "5\n",
      "6\n",
      "6\n"
     ]
    }
   ],
   "source": [
    "border = 3\n",
    "# indentation in cycle is needed\n",
    "for x in SomeSet:\n",
    "    if x > border:\n",
    "        print(x)\n",
    "    else:\n",
    "        print('still smaller than',border)"
   ]
  },
  {
   "cell_type": "markdown",
   "id": "c26f0c1d",
   "metadata": {},
   "source": [
    " "
   ]
  },
  {
   "cell_type": "markdown",
   "id": "afebba99",
   "metadata": {},
   "source": [
    "<b>None</b> is the python null value type."
   ]
  },
  {
   "cell_type": "code",
   "execution_count": 4,
   "id": "9cac7ecd",
   "metadata": {},
   "outputs": [
    {
     "data": {
      "text/plain": [
       "5"
      ]
     },
     "execution_count": 4,
     "metadata": {},
     "output_type": "execute_result"
    }
   ],
   "source": [
    "a = 2\n",
    "b = None\n",
    "# a+b\n",
    "if b is None:\n",
    "    b = 3\n",
    "a+b"
   ]
  },
  {
   "cell_type": "markdown",
   "id": "c97a2a61",
   "metadata": {},
   "source": [
    " "
   ]
  },
  {
   "cell_type": "markdown",
   "id": "53ee7dfd",
   "metadata": {},
   "source": [
    "## Data structures and functions"
   ]
  },
  {
   "cell_type": "markdown",
   "id": "4a9666d7",
   "metadata": {},
   "source": [
    "<b>Tuple</b> is immutable sequence with fixed length, that can be also nested."
   ]
  },
  {
   "cell_type": "code",
   "execution_count": 5,
   "id": "4882026e",
   "metadata": {},
   "outputs": [
    {
     "data": {
      "text/plain": [
       "'c'"
      ]
     },
     "execution_count": 5,
     "metadata": {},
     "output_type": "execute_result"
    }
   ],
   "source": [
    "our_nested_tuple = ((1,2),('b',1,'c'))\n",
    "our_nested_tuple[1][2]"
   ]
  },
  {
   "cell_type": "code",
   "execution_count": 6,
   "id": "32f2cf87",
   "metadata": {},
   "outputs": [
    {
     "data": {
      "text/plain": [
       "1"
      ]
     },
     "execution_count": 6,
     "metadata": {},
     "output_type": "execute_result"
    }
   ],
   "source": [
    "our_nested_tuple[1].count('b')"
   ]
  },
  {
   "cell_type": "code",
   "execution_count": 7,
   "id": "f904018b",
   "metadata": {},
   "outputs": [
    {
     "ename": "TypeError",
     "evalue": "'tuple' object does not support item assignment",
     "output_type": "error",
     "traceback": [
      "\u001b[0;31m---------------------------------------------------------------------------\u001b[0m",
      "\u001b[0;31mTypeError\u001b[0m                                 Traceback (most recent call last)",
      "\u001b[0;32m/var/folders/94/c4h__1ws7c1fzc4q0jr7dmy00000gn/T/ipykernel_89007/708269689.py\u001b[0m in \u001b[0;36m<module>\u001b[0;34m\u001b[0m\n\u001b[0;32m----> 1\u001b[0;31m \u001b[0mour_nested_tuple\u001b[0m\u001b[0;34m[\u001b[0m\u001b[0;36m1\u001b[0m\u001b[0;34m]\u001b[0m\u001b[0;34m[\u001b[0m\u001b[0;36m1\u001b[0m\u001b[0;34m]\u001b[0m \u001b[0;34m=\u001b[0m \u001b[0;34m'a'\u001b[0m\u001b[0;34m\u001b[0m\u001b[0;34m\u001b[0m\u001b[0m\n\u001b[0m",
      "\u001b[0;31mTypeError\u001b[0m: 'tuple' object does not support item assignment"
     ]
    }
   ],
   "source": [
    "our_nested_tuple[1][1] = 'a'"
   ]
  },
  {
   "cell_type": "markdown",
   "id": "0d83bab5",
   "metadata": {},
   "source": [
    " "
   ]
  },
  {
   "cell_type": "markdown",
   "id": "d450f859",
   "metadata": {},
   "source": [
    "<b>List</b> on the contrary can be modified."
   ]
  },
  {
   "cell_type": "code",
   "execution_count": 8,
   "id": "9b6f5c17",
   "metadata": {},
   "outputs": [
    {
     "name": "stdout",
     "output_type": "stream",
     "text": [
      "['a', ('b', 'c')]\n",
      "0\n",
      "1\n"
     ]
    },
    {
     "data": {
      "text/plain": [
       "['cc', 'd']"
      ]
     },
     "execution_count": 8,
     "metadata": {},
     "output_type": "execute_result"
    }
   ],
   "source": [
    "our_1_list = [1,2,3]\n",
    "our_2_tup = ('a',('b','c'))\n",
    "our_2_list = list(our_2_tup)\n",
    "print(our_2_list)\n",
    "print(our_2_list.count('b'))\n",
    "print(our_2_list.count(('b','c')))\n",
    "our_2_list[1]='d'\n",
    "our_2_list.insert(1,'cc')\n",
    "our_2_list.pop(0)\n",
    "our_2_list"
   ]
  },
  {
   "cell_type": "markdown",
   "id": "72700369",
   "metadata": {},
   "source": [
    " "
   ]
  },
  {
   "cell_type": "markdown",
   "id": "2c434de0",
   "metadata": {},
   "source": [
    "<b>Dict</b> (or hash map) is collection of key-value pairs. Syntax for accessing or inserting elements is similar as for list."
   ]
  },
  {
   "cell_type": "code",
   "execution_count": 9,
   "id": "d307ab54",
   "metadata": {},
   "outputs": [
    {
     "data": {
      "text/plain": [
       "3"
      ]
     },
     "execution_count": 9,
     "metadata": {},
     "output_type": "execute_result"
    }
   ],
   "source": [
    "our_dict0 = {'first' : (2,3,4), 'second' : 456}\n",
    "ourdict1 = {'A' : (0,2) , 'B' : our_dict0, 'C' : [99,None]}\n",
    "ourdict1['B']['first'][1]"
   ]
  },
  {
   "cell_type": "markdown",
   "id": "b137bf85",
   "metadata": {},
   "source": [
    "<b>Set</b>  is unordered collection of unique elements."
   ]
  },
  {
   "cell_type": "code",
   "execution_count": 10,
   "id": "a12b421c",
   "metadata": {},
   "outputs": [
    {
     "name": "stdout",
     "output_type": "stream",
     "text": [
      "{2, 3, 4, 5}\n"
     ]
    },
    {
     "data": {
      "text/plain": [
       "{4, 5}"
      ]
     },
     "execution_count": 10,
     "metadata": {},
     "output_type": "execute_result"
    }
   ],
   "source": [
    "our_set = set([2,3,4,4,4,4,5,5])\n",
    "print(our_set)\n",
    "their_set = {2, 3}\n",
    "our_set.difference(their_set)"
   ]
  },
  {
   "cell_type": "markdown",
   "id": "887871e9",
   "metadata": {},
   "source": [
    "<b>Function</b> is defined via 'def' keyword followed by name(). It can access either global or local variables.\n",
    "\n",
    "After function is finished local 'namespace' that was assigned within a function will be deleted.\n",
    "\n",
    "(It is also possibble to assign the variable globaly, if the varaible is declared with help of 'global' keyword.)"
   ]
  },
  {
   "cell_type": "code",
   "execution_count": 11,
   "id": "e78cecc7",
   "metadata": {},
   "outputs": [
    {
     "name": "stdout",
     "output_type": "stream",
     "text": [
      "Local variable in our_first_fun is 4\n",
      "Global variable after change is: 12\n"
     ]
    }
   ],
   "source": [
    "def our_first_fun(add_param):\n",
    "    global glbx\n",
    "    locx = 4\n",
    "    glbx = 10\n",
    "    print('Local variable in our_first_fun is',locx)\n",
    "    glbx += add_param\n",
    "#--call a function-\n",
    "our_first_fun(2)\n",
    "print('Global variable after change is:', glbx)\n",
    "#print(locx)  #uncomment to get the error for local variable"
   ]
  },
  {
   "cell_type": "markdown",
   "id": "865558b5",
   "metadata": {},
   "source": [
    "<b>Anonymous (lambda) function</b> allows single-statement structure."
   ]
  },
  {
   "cell_type": "code",
   "execution_count": 12,
   "id": "ff13dd4d",
   "metadata": {},
   "outputs": [
    {
     "name": "stdout",
     "output_type": "stream",
     "text": [
      "10\n",
      "30\n"
     ]
    }
   ],
   "source": [
    "def long_multi_two_fun(x):\n",
    "    return x*2\n",
    "\n",
    "short_lambda_two_fun = lambda x: x*2\n",
    "\n",
    "print(long_multi_two_fun(5))\n",
    "print(short_lambda_two_fun(15))"
   ]
  },
  {
   "cell_type": "code",
   "execution_count": null,
   "id": "fbab68a7",
   "metadata": {},
   "outputs": [],
   "source": []
  }
 ],
 "metadata": {
  "kernelspec": {
   "display_name": "Python 3 (ipykernel)",
   "language": "python",
   "name": "python3"
  },
  "language_info": {
   "codemirror_mode": {
    "name": "ipython",
    "version": 3
   },
   "file_extension": ".py",
   "mimetype": "text/x-python",
   "name": "python",
   "nbconvert_exporter": "python",
   "pygments_lexer": "ipython3",
   "version": "3.9.13"
  }
 },
 "nbformat": 4,
 "nbformat_minor": 5
}
