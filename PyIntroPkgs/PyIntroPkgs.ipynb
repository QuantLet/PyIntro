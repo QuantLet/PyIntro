{
 "cells": [
  {
   "cell_type": "markdown",
   "id": "5cf817bc",
   "metadata": {},
   "source": [
    "## Numpy & Arrays and Vectors"
   ]
  },
  {
   "cell_type": "markdown",
   "id": "89bb9cde",
   "metadata": {},
   "source": [
    "NumPy package contains multi-dimensional arrays, various math. operations as well as lin. algebra"
   ]
  },
  {
   "cell_type": "code",
   "execution_count": 1,
   "id": "b25b2ecd",
   "metadata": {},
   "outputs": [],
   "source": [
    "import numpy as np"
   ]
  },
  {
   "cell_type": "markdown",
   "id": "0b95a047",
   "metadata": {},
   "source": [
    "Arrays can be created with help of 'array' function"
   ]
  },
  {
   "cell_type": "code",
   "execution_count": 2,
   "id": "847de9ee",
   "metadata": {},
   "outputs": [
    {
     "data": {
      "text/plain": [
       "array([6. , 7.5, 8. , 0. , 1. ])"
      ]
     },
     "execution_count": 2,
     "metadata": {},
     "output_type": "execute_result"
    }
   ],
   "source": [
    "data1 = [6, 7.5, 8, 0, 1]\n",
    "arr1 = np.array(data1)\n",
    "arr1"
   ]
  },
  {
   "cell_type": "code",
   "execution_count": 3,
   "id": "08fa10ee",
   "metadata": {},
   "outputs": [
    {
     "data": {
      "text/plain": [
       "array([[1, 2, 3, 4],\n",
       "       [5, 6, 7, 8]])"
      ]
     },
     "execution_count": 3,
     "metadata": {},
     "output_type": "execute_result"
    }
   ],
   "source": [
    "data2 = [[1, 2, 3, 4], [5, 6, 7, 8]]\n",
    "arr2 = np.array(data2)\n",
    "arr2"
   ]
  },
  {
   "cell_type": "code",
   "execution_count": 4,
   "id": "d33927d8",
   "metadata": {},
   "outputs": [
    {
     "data": {
      "text/plain": [
       "2"
      ]
     },
     "execution_count": 4,
     "metadata": {},
     "output_type": "execute_result"
    }
   ],
   "source": [
    "arr2.ndim"
   ]
  },
  {
   "cell_type": "code",
   "execution_count": 5,
   "id": "d09cb242",
   "metadata": {},
   "outputs": [
    {
     "data": {
      "text/plain": [
       "(2, 4)"
      ]
     },
     "execution_count": 5,
     "metadata": {},
     "output_type": "execute_result"
    }
   ],
   "source": [
    "arr2.shape"
   ]
  },
  {
   "cell_type": "code",
   "execution_count": 6,
   "id": "8e092d64",
   "metadata": {},
   "outputs": [
    {
     "data": {
      "text/plain": [
       "array([[0., 0., 0.],\n",
       "       [0., 0., 0.]])"
      ]
     },
     "execution_count": 6,
     "metadata": {},
     "output_type": "execute_result"
    }
   ],
   "source": [
    "np.zeros((2, 3))\n",
    "#np.ones((3,3))\n",
    "#np.empty((2, 3, 2))\n",
    "#np.arange(10)"
   ]
  },
  {
   "cell_type": "markdown",
   "id": "7849ffc1",
   "metadata": {},
   "source": [
    " "
   ]
  },
  {
   "cell_type": "markdown",
   "id": "0597e8d9",
   "metadata": {},
   "source": [
    "Various arithmetic operations are possible. \n",
    "(Operation between equal-sized arrays are elementwise. )"
   ]
  },
  {
   "cell_type": "code",
   "execution_count": 7,
   "id": "a9b53fbe",
   "metadata": {},
   "outputs": [
    {
     "data": {
      "text/plain": [
       "array([[1., 2., 3.],\n",
       "       [4., 5., 6.]])"
      ]
     },
     "execution_count": 7,
     "metadata": {},
     "output_type": "execute_result"
    }
   ],
   "source": [
    "arr = np.array([[1., 2., 3.], [4., 5., 6.]])\n",
    "arr"
   ]
  },
  {
   "cell_type": "code",
   "execution_count": 8,
   "id": "d1bd2f83",
   "metadata": {},
   "outputs": [
    {
     "data": {
      "text/plain": [
       "array([[False,  True, False],\n",
       "       [ True, False,  True]])"
      ]
     },
     "execution_count": 8,
     "metadata": {},
     "output_type": "execute_result"
    }
   ],
   "source": [
    "#arr * arr\n",
    "#arr - arr\n",
    "arr2 = np.array([[0., 4., 1.], [7., 2., 12.]])\n",
    "arr2 > arr"
   ]
  },
  {
   "cell_type": "markdown",
   "id": "a0a9d6c8",
   "metadata": {},
   "source": [
    "There are multiple ways to select the elements or subsets."
   ]
  },
  {
   "cell_type": "code",
   "execution_count": 9,
   "id": "1162b521",
   "metadata": {},
   "outputs": [
    {
     "data": {
      "text/plain": [
       "array([ 0,  1,  2,  3,  4,  5,  6,  7,  8,  9, 10, 11, 12, 13, 14])"
      ]
     },
     "execution_count": 9,
     "metadata": {},
     "output_type": "execute_result"
    }
   ],
   "source": [
    "arr0 = np.arange(15)\n",
    "arr0"
   ]
  },
  {
   "cell_type": "markdown",
   "id": "dbacda43",
   "metadata": {},
   "source": [
    "Do not forget indexing from the zero from the left side. \n",
    "\n",
    "Note that slices are 'the views' referencing to original values, and thus can be rewritten!"
   ]
  },
  {
   "cell_type": "code",
   "execution_count": 10,
   "id": "4f65e24a",
   "metadata": {},
   "outputs": [
    {
     "data": {
      "text/plain": [
       "array([    0, 12345,     2,     3,     4,     5,     6,     7,     8,\n",
       "           9,    10,    11,    12,    13,    14])"
      ]
     },
     "execution_count": 10,
     "metadata": {},
     "output_type": "execute_result"
    }
   ],
   "source": [
    "slice = arr0[0:3]\n",
    "slice[1] = 12345\n",
    "arr0"
   ]
  },
  {
   "cell_type": "code",
   "execution_count": 11,
   "id": "4551270f",
   "metadata": {},
   "outputs": [
    {
     "data": {
      "text/plain": [
       "array([    0, 12345,     2,     3,     4,     5,     6,     7,     8,\n",
       "           9,    10,    11,    12,    13,    14])"
      ]
     },
     "execution_count": 11,
     "metadata": {},
     "output_type": "execute_result"
    }
   ],
   "source": [
    "sliceC = arr0[0:3].copy()\n",
    "sliceC[1] = 6789\n",
    "arr0"
   ]
  },
  {
   "cell_type": "code",
   "execution_count": 12,
   "id": "dc31beb2",
   "metadata": {},
   "outputs": [
    {
     "data": {
      "text/plain": [
       "array([0, 2, 3, 4])"
      ]
     },
     "execution_count": 12,
     "metadata": {},
     "output_type": "execute_result"
    }
   ],
   "source": [
    "sliceD = arr0[arr0 <5]\n",
    "sliceD"
   ]
  },
  {
   "cell_type": "markdown",
   "id": "13b8417e",
   "metadata": {},
   "source": [
    "## Pandas"
   ]
  },
  {
   "cell_type": "markdown",
   "id": "2c9eb08e",
   "metadata": {},
   "source": [
    "Pandas contains data structures and manipulating tools to clean as well as analyse tabular and heterogenous data, having two main structures: Series and DataFrames."
   ]
  },
  {
   "cell_type": "code",
   "execution_count": 21,
   "id": "3507701d",
   "metadata": {},
   "outputs": [],
   "source": [
    "import pandas as pd"
   ]
  },
  {
   "cell_type": "markdown",
   "id": "141b1268",
   "metadata": {},
   "source": [
    "<b>Series</b> is one dimensional array of values with labels called 'index'.\n",
    "(One could also create the series from dictionary (having indices as the keys))."
   ]
  },
  {
   "cell_type": "code",
   "execution_count": 15,
   "id": "58a73129",
   "metadata": {},
   "outputs": [
    {
     "data": {
      "text/plain": [
       "2018    4\n",
       "2019    7\n",
       "2020   -5\n",
       "2021    3\n",
       "2022    2\n",
       "2023    2\n",
       "dtype: int64"
      ]
     },
     "execution_count": 15,
     "metadata": {},
     "output_type": "execute_result"
    }
   ],
   "source": [
    "ts = pd.Series([4, 7, -5, 3, 2, 2], index=[\"2018\", \"2019\", \"2020\", \"2021\",\"2022\", \"2023\"])\n",
    "ts"
   ]
  },
  {
   "cell_type": "code",
   "execution_count": 16,
   "id": "8ee5e828",
   "metadata": {},
   "outputs": [
    {
     "name": "stdout",
     "output_type": "stream",
     "text": [
      "Indices of ts: Index(['2018', '2019', '2020', '2021', '2022', '2023'], dtype='object')\n",
      "Values of ts [ 4  7 -5  3  2  2]\n",
      "Values of ts in 2023 is: 2\n"
     ]
    }
   ],
   "source": [
    "print(\"Indices of ts:\",ts.index)\n",
    "print(\"Values of ts\",ts.values)\n",
    "print(\"Values of ts in 2023 is:\",ts[\"2023\"])"
   ]
  },
  {
   "cell_type": "code",
   "execution_count": 17,
   "id": "d696bd08",
   "metadata": {},
   "outputs": [
    {
     "data": {
      "text/plain": [
       "d    4\n",
       "b    7\n",
       "a   -5\n",
       "c    3\n",
       "dtype: int64"
      ]
     },
     "execution_count": 17,
     "metadata": {},
     "output_type": "execute_result"
    }
   ],
   "source": [
    "ts1 = pd.Series([4, 7, -5, 3], index=[\"d\", \"b\", \"a\", \"c\"])\n",
    "ts1"
   ]
  },
  {
   "cell_type": "code",
   "execution_count": 18,
   "id": "b8376cf8",
   "metadata": {},
   "outputs": [
    {
     "name": "stdout",
     "output_type": "stream",
     "text": [
      "0   NaN\n",
      "1   NaN\n",
      "2   NaN\n",
      "dtype: float64\n"
     ]
    },
    {
     "data": {
      "text/plain": [
       "0    True\n",
       "1    True\n",
       "2    True\n",
       "dtype: bool"
      ]
     },
     "execution_count": 18,
     "metadata": {},
     "output_type": "execute_result"
    }
   ],
   "source": [
    "ts0 = [float(\"NaN\"), float(\"nan\"), None]\n",
    "ts2 = pd.Series(ts0)\n",
    "print(ts2)\n",
    "pd.isnull(ts2)"
   ]
  },
  {
   "cell_type": "markdown",
   "id": "fe4bce59",
   "metadata": {},
   "source": [
    "## Dataframes"
   ]
  },
  {
   "cell_type": "markdown",
   "id": "2a706a94",
   "metadata": {},
   "source": [
    "<b>Dataframes</b> represents a (rectagular) table of data, in which every column can be a different type, having a row and a column index.\n",
    "\n",
    "\n",
    "One way of creating a dataframe manually is via dictionary of equaly-lengthed lists.\n"
   ]
  },
  {
   "cell_type": "code",
   "execution_count": 22,
   "id": "38609746",
   "metadata": {},
   "outputs": [
    {
     "data": {
      "text/html": [
       "<div>\n",
       "<style scoped>\n",
       "    .dataframe tbody tr th:only-of-type {\n",
       "        vertical-align: middle;\n",
       "    }\n",
       "\n",
       "    .dataframe tbody tr th {\n",
       "        vertical-align: top;\n",
       "    }\n",
       "\n",
       "    .dataframe thead th {\n",
       "        text-align: right;\n",
       "    }\n",
       "</style>\n",
       "<table border=\"1\" class=\"dataframe\">\n",
       "  <thead>\n",
       "    <tr style=\"text-align: right;\">\n",
       "      <th></th>\n",
       "      <th>state</th>\n",
       "      <th>year</th>\n",
       "      <th>pop</th>\n",
       "    </tr>\n",
       "  </thead>\n",
       "  <tbody>\n",
       "    <tr>\n",
       "      <th>0</th>\n",
       "      <td>Berlin</td>\n",
       "      <td>2020</td>\n",
       "      <td>3.5</td>\n",
       "    </tr>\n",
       "    <tr>\n",
       "      <th>1</th>\n",
       "      <td>Berlin</td>\n",
       "      <td>2021</td>\n",
       "      <td>3.7</td>\n",
       "    </tr>\n",
       "    <tr>\n",
       "      <th>2</th>\n",
       "      <td>Berlin</td>\n",
       "      <td>2022</td>\n",
       "      <td>3.6</td>\n",
       "    </tr>\n",
       "    <tr>\n",
       "      <th>3</th>\n",
       "      <td>Hamburg</td>\n",
       "      <td>2021</td>\n",
       "      <td>1.4</td>\n",
       "    </tr>\n",
       "    <tr>\n",
       "      <th>4</th>\n",
       "      <td>Hamburg</td>\n",
       "      <td>2022</td>\n",
       "      <td>1.6</td>\n",
       "    </tr>\n",
       "  </tbody>\n",
       "</table>\n",
       "</div>"
      ],
      "text/plain": [
       "     state  year  pop\n",
       "0   Berlin  2020  3.5\n",
       "1   Berlin  2021  3.7\n",
       "2   Berlin  2022  3.6\n",
       "3  Hamburg  2021  1.4\n",
       "4  Hamburg  2022  1.6"
      ]
     },
     "execution_count": 22,
     "metadata": {},
     "output_type": "execute_result"
    }
   ],
   "source": [
    "data = {\"state\": [\"Berlin\", \"Berlin\", \"Berlin\", \"Hamburg\", \"Hamburg\", \"Hamburg\"],\n",
    "        \"year\": [2020, 2021, 2022, 2021, 2022, 2023],\n",
    "        \"pop\": [3.5, 3.7, 3.6, 1.4, 1.6, 1.6]}\n",
    "df = pd.DataFrame(data)\n",
    "df.head()"
   ]
  },
  {
   "cell_type": "code",
   "execution_count": 23,
   "id": "a0452742",
   "metadata": {},
   "outputs": [
    {
     "data": {
      "text/plain": [
       "state    Berlin\n",
       "year       2021\n",
       "pop         3.7\n",
       "Name: 1, dtype: object"
      ]
     },
     "execution_count": 23,
     "metadata": {},
     "output_type": "execute_result"
    }
   ],
   "source": [
    "#df[\"year\"]\n",
    "df.year\n",
    "df.loc[1]"
   ]
  },
  {
   "cell_type": "markdown",
   "id": "b4e451b7",
   "metadata": {},
   "source": [
    "If the nested dictionary is passed to dataframe, the outer keys are interpreted as the columns and the inner keys as the indices."
   ]
  },
  {
   "cell_type": "code",
   "execution_count": 24,
   "id": "66e50358",
   "metadata": {},
   "outputs": [
    {
     "data": {
      "text/html": [
       "<div>\n",
       "<style scoped>\n",
       "    .dataframe tbody tr th:only-of-type {\n",
       "        vertical-align: middle;\n",
       "    }\n",
       "\n",
       "    .dataframe tbody tr th {\n",
       "        vertical-align: top;\n",
       "    }\n",
       "\n",
       "    .dataframe thead th {\n",
       "        text-align: right;\n",
       "    }\n",
       "</style>\n",
       "<table border=\"1\" class=\"dataframe\">\n",
       "  <thead>\n",
       "    <tr style=\"text-align: right;\">\n",
       "      <th>state</th>\n",
       "      <th>Hamburg</th>\n",
       "      <th>Berlin</th>\n",
       "    </tr>\n",
       "    <tr>\n",
       "      <th>year</th>\n",
       "      <th></th>\n",
       "      <th></th>\n",
       "    </tr>\n",
       "  </thead>\n",
       "  <tbody>\n",
       "    <tr>\n",
       "      <th>2000</th>\n",
       "      <td>1.5</td>\n",
       "      <td>NaN</td>\n",
       "    </tr>\n",
       "    <tr>\n",
       "      <th>2001</th>\n",
       "      <td>1.7</td>\n",
       "      <td>3.4</td>\n",
       "    </tr>\n",
       "    <tr>\n",
       "      <th>2002</th>\n",
       "      <td>3.6</td>\n",
       "      <td>3.9</td>\n",
       "    </tr>\n",
       "  </tbody>\n",
       "</table>\n",
       "</div>"
      ],
      "text/plain": [
       "state  Hamburg  Berlin\n",
       "year                  \n",
       "2000       1.5     NaN\n",
       "2001       1.7     3.4\n",
       "2002       3.6     3.9"
      ]
     },
     "execution_count": 24,
     "metadata": {},
     "output_type": "execute_result"
    }
   ],
   "source": [
    "data2 = {\"Hamburg\": {2000: 1.5, 2001: 1.7, 2002: 3.6},\n",
    "               \"Berlin\": {2001: 3.4, 2002: 3.9}}\n",
    "df2 = pd.DataFrame(data2)\n",
    "df2\n",
    "df2.index.name = \"year\"\n",
    "df2.columns.name = \"state\"\n",
    "df2\n",
    "# df.T\n",
    "# pd.DataFrame(data2, index=[2001, 2002, 2003])"
   ]
  },
  {
   "cell_type": "code",
   "execution_count": 25,
   "id": "aa20b8bf",
   "metadata": {},
   "outputs": [
    {
     "data": {
      "text/html": [
       "<div>\n",
       "<style scoped>\n",
       "    .dataframe tbody tr th:only-of-type {\n",
       "        vertical-align: middle;\n",
       "    }\n",
       "\n",
       "    .dataframe tbody tr th {\n",
       "        vertical-align: top;\n",
       "    }\n",
       "\n",
       "    .dataframe thead th {\n",
       "        text-align: right;\n",
       "    }\n",
       "</style>\n",
       "<table border=\"1\" class=\"dataframe\">\n",
       "  <thead>\n",
       "    <tr style=\"text-align: right;\">\n",
       "      <th>state</th>\n",
       "      <th>Hamburg</th>\n",
       "    </tr>\n",
       "    <tr>\n",
       "      <th>year</th>\n",
       "      <th></th>\n",
       "    </tr>\n",
       "  </thead>\n",
       "  <tbody>\n",
       "    <tr>\n",
       "      <th>2000</th>\n",
       "      <td>1.5</td>\n",
       "    </tr>\n",
       "    <tr>\n",
       "      <th>2002</th>\n",
       "      <td>3.6</td>\n",
       "    </tr>\n",
       "  </tbody>\n",
       "</table>\n",
       "</div>"
      ],
      "text/plain": [
       "state  Hamburg\n",
       "year          \n",
       "2000       1.5\n",
       "2002       3.6"
      ]
     },
     "execution_count": 25,
     "metadata": {},
     "output_type": "execute_result"
    }
   ],
   "source": [
    "df3 = df2.drop('Berlin',axis=1)\n",
    "df4 = df3.drop(2001)\n",
    "df4"
   ]
  },
  {
   "cell_type": "markdown",
   "id": "1ba999ce",
   "metadata": {},
   "source": [
    "Adding two dataframes together retur dataframe whose index and columns are the unions of original ones. Rows and columns that are not found in both original dataframes are filled as missings."
   ]
  },
  {
   "cell_type": "code",
   "execution_count": 26,
   "id": "c66e8fd1",
   "metadata": {},
   "outputs": [
    {
     "name": "stdout",
     "output_type": "stream",
     "text": [
      "            b    c    d\n",
      "Ohio      0.0  1.0  2.0\n",
      "Texas     3.0  4.0  5.0\n",
      "Colorado  6.0  7.0  8.0\n",
      "          b     d     e\n",
      "Utah    0.0   1.0   2.0\n",
      "Ohio    3.0   4.0   5.0\n",
      "Texas   6.0   7.0   8.0\n",
      "Oregon  9.0  10.0  11.0\n",
      "            b   c     d   e\n",
      "Colorado  NaN NaN   NaN NaN\n",
      "Ohio      3.0 NaN   6.0 NaN\n",
      "Oregon    NaN NaN   NaN NaN\n",
      "Texas     9.0 NaN  12.0 NaN\n",
      "Utah      NaN NaN   NaN NaN\n",
      "            b    c     d     e\n",
      "Colorado  6.0  7.0   8.0   NaN\n",
      "Ohio      3.0  1.0   6.0   5.0\n",
      "Oregon    9.0  NaN  10.0  11.0\n",
      "Texas     9.0  4.0  12.0   8.0\n",
      "Utah      0.0  NaN   1.0   2.0\n"
     ]
    }
   ],
   "source": [
    "dfA = pd.DataFrame(np.arange(9.).reshape((3, 3)), columns=list(\"bcd\"),\n",
    "                   index=[\"Ohio\", \"Texas\", \"Colorado\"])\n",
    "dfB = pd.DataFrame(np.arange(12.).reshape((4, 3)), columns=list(\"bde\"),\n",
    "                   index=[\"Utah\", \"Ohio\", \"Texas\", \"Oregon\"])\n",
    "print(dfA)\n",
    "print(dfB)\n",
    "dfC1 = dfA + dfB\n",
    "print(dfC1)\n",
    "dfC2 = dfA.add(dfB, fill_value=0)\n",
    "print(dfC2)"
   ]
  },
  {
   "cell_type": "markdown",
   "id": "60cc6d6b",
   "metadata": {},
   "source": [
    "Pandas' objects also have a various common stats and math summarizing methods."
   ]
  },
  {
   "cell_type": "code",
   "execution_count": 27,
   "id": "7abff5f2",
   "metadata": {},
   "outputs": [
    {
     "data": {
      "text/html": [
       "<div>\n",
       "<style scoped>\n",
       "    .dataframe tbody tr th:only-of-type {\n",
       "        vertical-align: middle;\n",
       "    }\n",
       "\n",
       "    .dataframe tbody tr th {\n",
       "        vertical-align: top;\n",
       "    }\n",
       "\n",
       "    .dataframe thead th {\n",
       "        text-align: right;\n",
       "    }\n",
       "</style>\n",
       "<table border=\"1\" class=\"dataframe\">\n",
       "  <thead>\n",
       "    <tr style=\"text-align: right;\">\n",
       "      <th></th>\n",
       "      <th>A</th>\n",
       "      <th>B</th>\n",
       "    </tr>\n",
       "  </thead>\n",
       "  <tbody>\n",
       "    <tr>\n",
       "      <th>a</th>\n",
       "      <td>1.40</td>\n",
       "      <td>NaN</td>\n",
       "    </tr>\n",
       "    <tr>\n",
       "      <th>b</th>\n",
       "      <td>7.10</td>\n",
       "      <td>-4.5</td>\n",
       "    </tr>\n",
       "    <tr>\n",
       "      <th>c</th>\n",
       "      <td>NaN</td>\n",
       "      <td>NaN</td>\n",
       "    </tr>\n",
       "    <tr>\n",
       "      <th>d</th>\n",
       "      <td>0.75</td>\n",
       "      <td>-1.3</td>\n",
       "    </tr>\n",
       "  </tbody>\n",
       "</table>\n",
       "</div>"
      ],
      "text/plain": [
       "      A    B\n",
       "a  1.40  NaN\n",
       "b  7.10 -4.5\n",
       "c   NaN  NaN\n",
       "d  0.75 -1.3"
      ]
     },
     "execution_count": 27,
     "metadata": {},
     "output_type": "execute_result"
    }
   ],
   "source": [
    "df5 = pd.DataFrame([[1.4, np.nan], [7.1, -4.5],\n",
    "                   [np.nan, np.nan], [0.75, -1.3]],\n",
    "                  index=[\"a\", \"b\", \"c\", \"d\"],\n",
    "                  columns=[\"A\", \"B\"])\n",
    "df5"
   ]
  },
  {
   "cell_type": "code",
   "execution_count": 28,
   "id": "96254ac6",
   "metadata": {},
   "outputs": [
    {
     "data": {
      "text/plain": [
       "A    3.083333\n",
       "B   -2.900000\n",
       "dtype: float64"
      ]
     },
     "execution_count": 28,
     "metadata": {},
     "output_type": "execute_result"
    }
   ],
   "source": [
    "#df5.sum()\n",
    "df5.mean(axis='rows', skipna=True)"
   ]
  },
  {
   "cell_type": "code",
   "execution_count": 29,
   "id": "4a9fe0c9",
   "metadata": {},
   "outputs": [],
   "source": [
    "# conda install pandas-datareader\n",
    "# import pandas_datareader.data as pdr\n",
    "# !pip install yfinance\n",
    "import yfinance as yf"
   ]
  },
  {
   "cell_type": "code",
   "execution_count": 34,
   "id": "9544adfd",
   "metadata": {},
   "outputs": [
    {
     "name": "stdout",
     "output_type": "stream",
     "text": [
      "[*********************100%***********************]  1 of 1 completed\n",
      "[*********************100%***********************]  1 of 1 completed\n",
      "[*********************100%***********************]  1 of 1 completed\n"
     ]
    }
   ],
   "source": [
    "DataAll = {ticker: yf.download(ticker, start='2023-01-01', end='2023-02-28') for ticker in ['AAPL', 'MSFT', 'GOOG']}"
   ]
  },
  {
   "cell_type": "code",
   "execution_count": 38,
   "id": "cc5726fe",
   "metadata": {},
   "outputs": [],
   "source": [
    "#DataAll"
   ]
  },
  {
   "cell_type": "code",
   "execution_count": 32,
   "id": "ce0d0c7d",
   "metadata": {},
   "outputs": [],
   "source": [
    "price = pd.DataFrame({ticker:  data['Adj Close'] for ticker, data in DataAl.items()})\n",
    "volume = pd.DataFrame({ticker:  data['Volume'] for ticker, data in DataAl.items()})"
   ]
  },
  {
   "cell_type": "code",
   "execution_count": 36,
   "id": "4709e26a",
   "metadata": {},
   "outputs": [
    {
     "data": {
      "text/html": [
       "<div>\n",
       "<style scoped>\n",
       "    .dataframe tbody tr th:only-of-type {\n",
       "        vertical-align: middle;\n",
       "    }\n",
       "\n",
       "    .dataframe tbody tr th {\n",
       "        vertical-align: top;\n",
       "    }\n",
       "\n",
       "    .dataframe thead th {\n",
       "        text-align: right;\n",
       "    }\n",
       "</style>\n",
       "<table border=\"1\" class=\"dataframe\">\n",
       "  <thead>\n",
       "    <tr style=\"text-align: right;\">\n",
       "      <th></th>\n",
       "      <th>AAPL</th>\n",
       "      <th>MSFT</th>\n",
       "      <th>GOOG</th>\n",
       "    </tr>\n",
       "    <tr>\n",
       "      <th>Date</th>\n",
       "      <th></th>\n",
       "      <th></th>\n",
       "      <th></th>\n",
       "    </tr>\n",
       "  </thead>\n",
       "  <tbody>\n",
       "    <tr>\n",
       "      <th>2022-01-03</th>\n",
       "      <td>180.683868</td>\n",
       "      <td>330.813873</td>\n",
       "      <td>145.074493</td>\n",
       "    </tr>\n",
       "    <tr>\n",
       "      <th>2022-01-04</th>\n",
       "      <td>178.390701</td>\n",
       "      <td>325.141388</td>\n",
       "      <td>144.416504</td>\n",
       "    </tr>\n",
       "    <tr>\n",
       "      <th>2022-01-05</th>\n",
       "      <td>173.645538</td>\n",
       "      <td>312.659851</td>\n",
       "      <td>137.653503</td>\n",
       "    </tr>\n",
       "    <tr>\n",
       "      <th>2022-01-06</th>\n",
       "      <td>170.746780</td>\n",
       "      <td>310.189270</td>\n",
       "      <td>137.550995</td>\n",
       "    </tr>\n",
       "    <tr>\n",
       "      <th>2022-01-07</th>\n",
       "      <td>170.915558</td>\n",
       "      <td>310.347412</td>\n",
       "      <td>137.004501</td>\n",
       "    </tr>\n",
       "  </tbody>\n",
       "</table>\n",
       "</div>"
      ],
      "text/plain": [
       "                  AAPL        MSFT        GOOG\n",
       "Date                                          \n",
       "2022-01-03  180.683868  330.813873  145.074493\n",
       "2022-01-04  178.390701  325.141388  144.416504\n",
       "2022-01-05  173.645538  312.659851  137.653503\n",
       "2022-01-06  170.746780  310.189270  137.550995\n",
       "2022-01-07  170.915558  310.347412  137.004501"
      ]
     },
     "execution_count": 36,
     "metadata": {},
     "output_type": "execute_result"
    }
   ],
   "source": [
    "price.head()"
   ]
  },
  {
   "cell_type": "code",
   "execution_count": 40,
   "id": "bc6766d8",
   "metadata": {},
   "outputs": [
    {
     "name": "stdout",
     "output_type": "stream",
     "text": [
      "0.8146140794752207\n",
      "0.7263152525479755\n"
     ]
    }
   ],
   "source": [
    "returns = price.pct_change()\n",
    "print(returns['MSFT'].corr(returns['GOOG']))\n",
    "print(returns['MSFT'].corr(returns['AAPL']))"
   ]
  },
  {
   "cell_type": "code",
   "execution_count": null,
   "id": "0108d4f3",
   "metadata": {},
   "outputs": [],
   "source": []
  }
 ],
 "metadata": {
  "kernelspec": {
   "display_name": "Python 3 (ipykernel)",
   "language": "python",
   "name": "python3"
  },
  "language_info": {
   "codemirror_mode": {
    "name": "ipython",
    "version": 3
   },
   "file_extension": ".py",
   "mimetype": "text/x-python",
   "name": "python",
   "nbconvert_exporter": "python",
   "pygments_lexer": "ipython3",
   "version": "3.9.13"
  }
 },
 "nbformat": 4,
 "nbformat_minor": 5
}
