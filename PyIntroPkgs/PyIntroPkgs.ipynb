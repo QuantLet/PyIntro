{
 "cells": [
  {
   "cell_type": "markdown",
   "id": "5cf817bc",
   "metadata": {},
   "source": [
    "## Numpy & Arrays and Vectors"
   ]
  },
  {
   "cell_type": "markdown",
   "id": "89bb9cde",
   "metadata": {},
   "source": [
    "NumPy package contains multi-dimensional arrays, various math. operations as well as lin. algebra"
   ]
  },
  {
   "cell_type": "code",
   "execution_count": 1,
   "id": "b25b2ecd",
   "metadata": {},
   "outputs": [],
   "source": [
    "import numpy as np"
   ]
  },
  {
   "cell_type": "markdown",
   "id": "0b95a047",
   "metadata": {},
   "source": [
    "Arrays can be created with help of 'array' function"
   ]
  },
  {
   "cell_type": "code",
   "execution_count": 2,
   "id": "847de9ee",
   "metadata": {},
   "outputs": [
    {
     "data": {
      "text/plain": [
       "array([6. , 7.5, 8. , 0. , 1. ])"
      ]
     },
     "execution_count": 2,
     "metadata": {},
     "output_type": "execute_result"
    }
   ],
   "source": [
    "data1 = [6, 7.5, 8, 0, 1]\n",
    "arr1 = np.array(data1)\n",
    "arr1"
   ]
  },
  {
   "cell_type": "code",
   "execution_count": 3,
   "id": "08fa10ee",
   "metadata": {},
   "outputs": [
    {
     "data": {
      "text/plain": [
       "array([[1, 2, 3, 4],\n",
       "       [5, 6, 7, 8]])"
      ]
     },
     "execution_count": 3,
     "metadata": {},
     "output_type": "execute_result"
    }
   ],
   "source": [
    "data2 = [[1, 2, 3, 4], [5, 6, 7, 8]]\n",
    "arr2 = np.array(data2)\n",
    "arr2"
   ]
  },
  {
   "cell_type": "code",
   "execution_count": 4,
   "id": "d33927d8",
   "metadata": {},
   "outputs": [
    {
     "data": {
      "text/plain": [
       "2"
      ]
     },
     "execution_count": 4,
     "metadata": {},
     "output_type": "execute_result"
    }
   ],
   "source": [
    "arr2.ndim"
   ]
  },
  {
   "cell_type": "code",
   "execution_count": 5,
   "id": "d09cb242",
   "metadata": {},
   "outputs": [
    {
     "data": {
      "text/plain": [
       "(2, 4)"
      ]
     },
     "execution_count": 5,
     "metadata": {},
     "output_type": "execute_result"
    }
   ],
   "source": [
    "arr2.shape"
   ]
  },
  {
   "cell_type": "code",
   "execution_count": 6,
   "id": "8e092d64",
   "metadata": {},
   "outputs": [
    {
     "data": {
      "text/plain": [
       "array([[0., 0., 0.],\n",
       "       [0., 0., 0.]])"
      ]
     },
     "execution_count": 6,
     "metadata": {},
     "output_type": "execute_result"
    }
   ],
   "source": [
    "np.zeros((2, 3))\n",
    "#np.ones((3,3))\n",
    "#np.empty((2, 3, 2))\n",
    "#np.arange(10)"
   ]
  },
  {
   "cell_type": "markdown",
   "id": "7849ffc1",
   "metadata": {},
   "source": [
    " "
   ]
  },
  {
   "cell_type": "markdown",
   "id": "0597e8d9",
   "metadata": {},
   "source": [
    "Various arithmetic operations are possible. \n",
    "(Operation between equal-sized arrays are elementwise. )"
   ]
  },
  {
   "cell_type": "code",
   "execution_count": 7,
   "id": "a9b53fbe",
   "metadata": {},
   "outputs": [
    {
     "data": {
      "text/plain": [
       "array([[1., 2., 3.],\n",
       "       [4., 5., 6.]])"
      ]
     },
     "execution_count": 7,
     "metadata": {},
     "output_type": "execute_result"
    }
   ],
   "source": [
    "arr = np.array([[1., 2., 3.], [4., 5., 6.]])\n",
    "arr"
   ]
  },
  {
   "cell_type": "code",
   "execution_count": 8,
   "id": "d1bd2f83",
   "metadata": {},
   "outputs": [
    {
     "data": {
      "text/plain": [
       "array([[False,  True, False],\n",
       "       [ True, False,  True]])"
      ]
     },
     "execution_count": 8,
     "metadata": {},
     "output_type": "execute_result"
    }
   ],
   "source": [
    "#arr * arr\n",
    "#arr - arr\n",
    "arr2 = np.array([[0., 4., 1.], [7., 2., 12.]])\n",
    "arr2 > arr"
   ]
  },
  {
   "cell_type": "markdown",
   "id": "a0a9d6c8",
   "metadata": {},
   "source": [
    "There are multiple ways to select the elements or subsets."
   ]
  },
  {
   "cell_type": "code",
   "execution_count": 9,
   "id": "1162b521",
   "metadata": {},
   "outputs": [
    {
     "data": {
      "text/plain": [
       "array([ 0,  1,  2,  3,  4,  5,  6,  7,  8,  9, 10, 11, 12, 13, 14])"
      ]
     },
     "execution_count": 9,
     "metadata": {},
     "output_type": "execute_result"
    }
   ],
   "source": [
    "arr0 = np.arange(15)\n",
    "arr0"
   ]
  },
  {
   "cell_type": "markdown",
   "id": "dbacda43",
   "metadata": {},
   "source": [
    "Do not forget indexing from the zero from the left side. \n",
    "\n",
    "Note that slices are 'the views' referencing to original values, and thus can be rewritten!"
   ]
  },
  {
   "cell_type": "code",
   "execution_count": 10,
   "id": "4f65e24a",
   "metadata": {},
   "outputs": [
    {
     "data": {
      "text/plain": [
       "array([    0, 12345,     2,     3,     4,     5,     6,     7,     8,\n",
       "           9,    10,    11,    12,    13,    14])"
      ]
     },
     "execution_count": 10,
     "metadata": {},
     "output_type": "execute_result"
    }
   ],
   "source": [
    "slice = arr0[0:3]\n",
    "slice[1] = 12345\n",
    "arr0"
   ]
  },
  {
   "cell_type": "code",
   "execution_count": 11,
   "id": "4551270f",
   "metadata": {},
   "outputs": [
    {
     "data": {
      "text/plain": [
       "array([    0, 12345,     2,     3,     4,     5,     6,     7,     8,\n",
       "           9,    10,    11,    12,    13,    14])"
      ]
     },
     "execution_count": 11,
     "metadata": {},
     "output_type": "execute_result"
    }
   ],
   "source": [
    "sliceC = arr0[0:3].copy()\n",
    "sliceC[1] = 6789\n",
    "arr0"
   ]
  },
  {
   "cell_type": "code",
   "execution_count": 12,
   "id": "dc31beb2",
   "metadata": {},
   "outputs": [
    {
     "data": {
      "text/plain": [
       "array([0, 2, 3, 4])"
      ]
     },
     "execution_count": 12,
     "metadata": {},
     "output_type": "execute_result"
    }
   ],
   "source": [
    "sliceD = arr0[arr0 <5]\n",
    "sliceD"
   ]
  },
  {
   "cell_type": "markdown",
   "id": "13b8417e",
   "metadata": {},
   "source": [
    "## Pandas"
   ]
  },
  {
   "cell_type": "markdown",
   "id": "2c9eb08e",
   "metadata": {},
   "source": [
    "Pandas contains data structures and manipulating tools to clean as well as analyse tabular and heterogenous data, having two main structures: Series and DataFrames."
   ]
  },
  {
   "cell_type": "code",
   "execution_count": 21,
   "id": "3507701d",
   "metadata": {},
   "outputs": [],
   "source": [
    "import pandas as pd"
   ]
  },
  {
   "cell_type": "markdown",
   "id": "141b1268",
   "metadata": {},
   "source": [
    "<b>Series</b> is one dimensional array of values with labels called 'index'.\n",
    "(One could also create the series from dictionary (having indices as the keys))."
   ]
  },
  {
   "cell_type": "code",
   "execution_count": 15,
   "id": "58a73129",
   "metadata": {},
   "outputs": [
    {
     "data": {
      "text/plain": [
       "2018    4\n",
       "2019    7\n",
       "2020   -5\n",
       "2021    3\n",
       "2022    2\n",
       "2023    2\n",
       "dtype: int64"
      ]
     },
     "execution_count": 15,
     "metadata": {},
     "output_type": "execute_result"
    }
   ],
   "source": [
    "ts = pd.Series([4, 7, -5, 3, 2, 2], index=[\"2018\", \"2019\", \"2020\", \"2021\",\"2022\", \"2023\"])\n",
    "ts"
   ]
  },
  {
   "cell_type": "code",
   "execution_count": 16,
   "id": "8ee5e828",
   "metadata": {},
   "outputs": [
    {
     "name": "stdout",
     "output_type": "stream",
     "text": [
      "Indices of ts: Index(['2018', '2019', '2020', '2021', '2022', '2023'], dtype='object')\n",
      "Values of ts [ 4  7 -5  3  2  2]\n",
      "Values of ts in 2023 is: 2\n"
     ]
    }
   ],
   "source": [
    "print(\"Indices of ts:\",ts.index)\n",
    "print(\"Values of ts\",ts.values)\n",
    "print(\"Values of ts in 2023 is:\",ts[\"2023\"])"
   ]
  },
  {
   "cell_type": "code",
   "execution_count": 17,
   "id": "d696bd08",
   "metadata": {},
   "outputs": [
    {
     "data": {
      "text/plain": [
       "d    4\n",
       "b    7\n",
       "a   -5\n",
       "c    3\n",
       "dtype: int64"
      ]
     },
     "execution_count": 17,
     "metadata": {},
     "output_type": "execute_result"
    }
   ],
   "source": [
    "ts1 = pd.Series([4, 7, -5, 3], index=[\"d\", \"b\", \"a\", \"c\"])\n",
    "ts1"
   ]
  },
  {
   "cell_type": "code",
   "execution_count": 18,
   "id": "b8376cf8",
   "metadata": {},
   "outputs": [
    {
     "name": "stdout",
     "output_type": "stream",
     "text": [
      "0   NaN\n",
      "1   NaN\n",
      "2   NaN\n",
      "dtype: float64\n"
     ]
    },
    {
     "data": {
      "text/plain": [
       "0    True\n",
       "1    True\n",
       "2    True\n",
       "dtype: bool"
      ]
     },
     "execution_count": 18,
     "metadata": {},
     "output_type": "execute_result"
    }
   ],
   "source": [
    "ts0 = [float(\"NaN\"), float(\"nan\"), None]\n",
    "ts2 = pd.Series(ts0)\n",
    "print(ts2)\n",
    "pd.isnull(ts2)"
   ]
  },
  {
   "cell_type": "markdown",
   "id": "fe4bce59",
   "metadata": {},
   "source": [
    "## Dataframes"
   ]
  },
  {
   "cell_type": "markdown",
   "id": "2a706a94",
   "metadata": {},
   "source": [
    "<b>Dataframes</b> represents a (rectagular) table of data, in which every column can be a different type, having a row and a column index.\n",
    "\n",
    "\n",
    "One way of creating a dataframe manually is via dictionary of equaly-lengthed lists.\n"
   ]
  },
  {
   "cell_type": "code",
   "execution_count": 22,
   "id": "38609746",
   "metadata": {},
   "outputs": [
    {
     "data": {
      "text/html": [
       "<div>\n",
       "<style scoped>\n",
       "    .dataframe tbody tr th:only-of-type {\n",
       "        vertical-align: middle;\n",
       "    }\n",
       "\n",
       "    .dataframe tbody tr th {\n",
       "        vertical-align: top;\n",
       "    }\n",
       "\n",
       "    .dataframe thead th {\n",
       "        text-align: right;\n",
       "    }\n",
       "</style>\n",
       "<table border=\"1\" class=\"dataframe\">\n",
       "  <thead>\n",
       "    <tr style=\"text-align: right;\">\n",
       "      <th></th>\n",
       "      <th>state</th>\n",
       "      <th>year</th>\n",
       "      <th>pop</th>\n",
       "    </tr>\n",
       "  </thead>\n",
       "  <tbody>\n",
       "    <tr>\n",
       "      <th>0</th>\n",
       "      <td>Berlin</td>\n",
       "      <td>2020</td>\n",
       "      <td>3.5</td>\n",
       "    </tr>\n",
       "    <tr>\n",
       "      <th>1</th>\n",
       "      <td>Berlin</td>\n",
       "      <td>2021</td>\n",
       "      <td>3.7</td>\n",
       "    </tr>\n",
       "    <tr>\n",
       "      <th>2</th>\n",
       "      <td>Berlin</td>\n",
       "      <td>2022</td>\n",
       "      <td>3.6</td>\n",
       "    </tr>\n",
       "    <tr>\n",
       "      <th>3</th>\n",
       "      <td>Hamburg</td>\n",
       "      <td>2021</td>\n",
       "      <td>1.4</td>\n",
       "    </tr>\n",
       "    <tr>\n",
       "      <th>4</th>\n",
       "      <td>Hamburg</td>\n",
       "      <td>2022</td>\n",
       "      <td>1.6</td>\n",
       "    </tr>\n",
       "  </tbody>\n",
       "</table>\n",
       "</div>"
      ],
      "text/plain": [
       "     state  year  pop\n",
       "0   Berlin  2020  3.5\n",
       "1   Berlin  2021  3.7\n",
       "2   Berlin  2022  3.6\n",
       "3  Hamburg  2021  1.4\n",
       "4  Hamburg  2022  1.6"
      ]
     },
     "execution_count": 22,
     "metadata": {},
     "output_type": "execute_result"
    }
   ],
   "source": [
    "data = {\"state\": [\"Berlin\", \"Berlin\", \"Berlin\", \"Hamburg\", \"Hamburg\", \"Hamburg\"],\n",
    "        \"year\": [2020, 2021, 2022, 2021, 2022, 2023],\n",
    "        \"pop\": [3.5, 3.7, 3.6, 1.4, 1.6, 1.6]}\n",
    "df = pd.DataFrame(data)\n",
    "df.head()"
   ]
  },
  {
   "cell_type": "code",
   "execution_count": 23,
   "id": "a0452742",
   "metadata": {},
   "outputs": [
    {
     "data": {
      "text/plain": [
       "state    Berlin\n",
       "year       2021\n",
       "pop         3.7\n",
       "Name: 1, dtype: object"
      ]
     },
     "execution_count": 23,
     "metadata": {},
     "output_type": "execute_result"
    }
   ],
   "source": [
    "#df[\"year\"]\n",
    "df.year\n",
    "df.loc[1]"
   ]
  },
  {
   "cell_type": "markdown",
   "id": "b4e451b7",
   "metadata": {},
   "source": [
    "If the nested dictionary is passed to dataframe, the outer keys are interpreted as the columns and the inner keys as the indices."
   ]
  },
  {
   "cell_type": "code",
   "execution_count": 24,
   "id": "66e50358",
   "metadata": {},
   "outputs": [
    {
     "data": {
      "text/html": [
       "<div>\n",
       "<style scoped>\n",
       "    .dataframe tbody tr th:only-of-type {\n",
       "        vertical-align: middle;\n",
       "    }\n",
       "\n",
       "    .dataframe tbody tr th {\n",
       "        vertical-align: top;\n",
       "    }\n",
       "\n",
       "    .dataframe thead th {\n",
       "        text-align: right;\n",
       "    }\n",
       "</style>\n",
       "<table border=\"1\" class=\"dataframe\">\n",
       "  <thead>\n",
       "    <tr style=\"text-align: right;\">\n",
       "      <th>state</th>\n",
       "      <th>Hamburg</th>\n",
       "      <th>Berlin</th>\n",
       "    </tr>\n",
       "    <tr>\n",
       "      <th>year</th>\n",
       "      <th></th>\n",
       "      <th></th>\n",
       "    </tr>\n",
       "  </thead>\n",
       "  <tbody>\n",
       "    <tr>\n",
       "      <th>2000</th>\n",
       "      <td>1.5</td>\n",
       "      <td>NaN</td>\n",
       "    </tr>\n",
       "    <tr>\n",
       "      <th>2001</th>\n",
       "      <td>1.7</td>\n",
       "      <td>3.4</td>\n",
       "    </tr>\n",
       "    <tr>\n",
       "      <th>2002</th>\n",
       "      <td>3.6</td>\n",
       "      <td>3.9</td>\n",
       "    </tr>\n",
       "  </tbody>\n",
       "</table>\n",
       "</div>"
      ],
      "text/plain": [
       "state  Hamburg  Berlin\n",
       "year                  \n",
       "2000       1.5     NaN\n",
       "2001       1.7     3.4\n",
       "2002       3.6     3.9"
      ]
     },
     "execution_count": 24,
     "metadata": {},
     "output_type": "execute_result"
    }
   ],
   "source": [
    "data2 = {\"Hamburg\": {2000: 1.5, 2001: 1.7, 2002: 3.6},\n",
    "               \"Berlin\": {2001: 3.4, 2002: 3.9}}\n",
    "df2 = pd.DataFrame(data2)\n",
    "df2\n",
    "df2.index.name = \"year\"\n",
    "df2.columns.name = \"state\"\n",
    "df2\n",
    "# df.T\n",
    "# pd.DataFrame(data2, index=[2001, 2002, 2003])"
   ]
  },
  {
   "cell_type": "code",
   "execution_count": 25,
   "id": "aa20b8bf",
   "metadata": {},
   "outputs": [
    {
     "data": {
      "text/html": [
       "<div>\n",
       "<style scoped>\n",
       "    .dataframe tbody tr th:only-of-type {\n",
       "        vertical-align: middle;\n",
       "    }\n",
       "\n",
       "    .dataframe tbody tr th {\n",
       "        vertical-align: top;\n",
       "    }\n",
       "\n",
       "    .dataframe thead th {\n",
       "        text-align: right;\n",
       "    }\n",
       "</style>\n",
       "<table border=\"1\" class=\"dataframe\">\n",
       "  <thead>\n",
       "    <tr style=\"text-align: right;\">\n",
       "      <th>state</th>\n",
       "      <th>Hamburg</th>\n",
       "    </tr>\n",
       "    <tr>\n",
       "      <th>year</th>\n",
       "      <th></th>\n",
       "    </tr>\n",
       "  </thead>\n",
       "  <tbody>\n",
       "    <tr>\n",
       "      <th>2000</th>\n",
       "      <td>1.5</td>\n",
       "    </tr>\n",
       "    <tr>\n",
       "      <th>2002</th>\n",
       "      <td>3.6</td>\n",
       "    </tr>\n",
       "  </tbody>\n",
       "</table>\n",
       "</div>"
      ],
      "text/plain": [
       "state  Hamburg\n",
       "year          \n",
       "2000       1.5\n",
       "2002       3.6"
      ]
     },
     "execution_count": 25,
     "metadata": {},
     "output_type": "execute_result"
    }
   ],
   "source": [
    "df3 = df2.drop('Berlin',axis=1)\n",
    "df4 = df3.drop(2001)\n",
    "df4"
   ]
  },
  {
   "cell_type": "markdown",
   "id": "1ba999ce",
   "metadata": {},
   "source": [
    "Adding two dataframes together retur dataframe whose index and columns are the unions of original ones. Rows and columns that are not found in both original dataframes are filled as missings."
   ]
  },
  {
   "cell_type": "code",
   "execution_count": 26,
   "id": "c66e8fd1",
   "metadata": {},
   "outputs": [
    {
     "name": "stdout",
     "output_type": "stream",
     "text": [
      "            b    c    d\n",
      "Ohio      0.0  1.0  2.0\n",
      "Texas     3.0  4.0  5.0\n",
      "Colorado  6.0  7.0  8.0\n",
      "          b     d     e\n",
      "Utah    0.0   1.0   2.0\n",
      "Ohio    3.0   4.0   5.0\n",
      "Texas   6.0   7.0   8.0\n",
      "Oregon  9.0  10.0  11.0\n",
      "            b   c     d   e\n",
      "Colorado  NaN NaN   NaN NaN\n",
      "Ohio      3.0 NaN   6.0 NaN\n",
      "Oregon    NaN NaN   NaN NaN\n",
      "Texas     9.0 NaN  12.0 NaN\n",
      "Utah      NaN NaN   NaN NaN\n",
      "            b    c     d     e\n",
      "Colorado  6.0  7.0   8.0   NaN\n",
      "Ohio      3.0  1.0   6.0   5.0\n",
      "Oregon    9.0  NaN  10.0  11.0\n",
      "Texas     9.0  4.0  12.0   8.0\n",
      "Utah      0.0  NaN   1.0   2.0\n"
     ]
    }
   ],
   "source": [
    "dfA = pd.DataFrame(np.arange(9.).reshape((3, 3)), columns=list(\"bcd\"),\n",
    "                   index=[\"Ohio\", \"Texas\", \"Colorado\"])\n",
    "dfB = pd.DataFrame(np.arange(12.).reshape((4, 3)), columns=list(\"bde\"),\n",
    "                   index=[\"Utah\", \"Ohio\", \"Texas\", \"Oregon\"])\n",
    "print(dfA)\n",
    "print(dfB)\n",
    "dfC1 = dfA + dfB\n",
    "print(dfC1)\n",
    "dfC2 = dfA.add(dfB, fill_value=0)\n",
    "print(dfC2)"
   ]
  },
  {
   "cell_type": "markdown",
   "id": "60cc6d6b",
   "metadata": {},
   "source": [
    "Pandas' objects also have a various common stats and math summarizing methods."
   ]
  },
  {
   "cell_type": "code",
   "execution_count": 27,
   "id": "7abff5f2",
   "metadata": {},
   "outputs": [
    {
     "data": {
      "text/html": [
       "<div>\n",
       "<style scoped>\n",
       "    .dataframe tbody tr th:only-of-type {\n",
       "        vertical-align: middle;\n",
       "    }\n",
       "\n",
       "    .dataframe tbody tr th {\n",
       "        vertical-align: top;\n",
       "    }\n",
       "\n",
       "    .dataframe thead th {\n",
       "        text-align: right;\n",
       "    }\n",
       "</style>\n",
       "<table border=\"1\" class=\"dataframe\">\n",
       "  <thead>\n",
       "    <tr style=\"text-align: right;\">\n",
       "      <th></th>\n",
       "      <th>A</th>\n",
       "      <th>B</th>\n",
       "    </tr>\n",
       "  </thead>\n",
       "  <tbody>\n",
       "    <tr>\n",
       "      <th>a</th>\n",
       "      <td>1.40</td>\n",
       "      <td>NaN</td>\n",
       "    </tr>\n",
       "    <tr>\n",
       "      <th>b</th>\n",
       "      <td>7.10</td>\n",
       "      <td>-4.5</td>\n",
       "    </tr>\n",
       "    <tr>\n",
       "      <th>c</th>\n",
       "      <td>NaN</td>\n",
       "      <td>NaN</td>\n",
       "    </tr>\n",
       "    <tr>\n",
       "      <th>d</th>\n",
       "      <td>0.75</td>\n",
       "      <td>-1.3</td>\n",
       "    </tr>\n",
       "  </tbody>\n",
       "</table>\n",
       "</div>"
      ],
      "text/plain": [
       "      A    B\n",
       "a  1.40  NaN\n",
       "b  7.10 -4.5\n",
       "c   NaN  NaN\n",
       "d  0.75 -1.3"
      ]
     },
     "execution_count": 27,
     "metadata": {},
     "output_type": "execute_result"
    }
   ],
   "source": [
    "df5 = pd.DataFrame([[1.4, np.nan], [7.1, -4.5],\n",
    "                   [np.nan, np.nan], [0.75, -1.3]],\n",
    "                  index=[\"a\", \"b\", \"c\", \"d\"],\n",
    "                  columns=[\"A\", \"B\"])\n",
    "df5"
   ]
  },
  {
   "cell_type": "code",
   "execution_count": 28,
   "id": "96254ac6",
   "metadata": {},
   "outputs": [
    {
     "data": {
      "text/plain": [
       "A    3.083333\n",
       "B   -2.900000\n",
       "dtype: float64"
      ]
     },
     "execution_count": 28,
     "metadata": {},
     "output_type": "execute_result"
    }
   ],
   "source": [
    "#df5.sum()\n",
    "df5.mean(axis='rows', skipna=True)"
   ]
  },
  {
   "cell_type": "code",
   "execution_count": 29,
   "id": "4a9fe0c9",
   "metadata": {},
   "outputs": [],
   "source": [
    "# conda install pandas-datareader\n",
    "# import pandas_datareader.data as pdr\n",
    "# !pip install yfinance\n",
    "import yfinance as yf"
   ]
  },
  {
   "cell_type": "code",
   "execution_count": 30,
   "id": "9544adfd",
   "metadata": {},
   "outputs": [
    {
     "name": "stdout",
     "output_type": "stream",
     "text": [
      "[*********************100%***********************]  1 of 1 completed\n",
      "[*********************100%***********************]  1 of 1 completed\n",
      "[*********************100%***********************]  1 of 1 completed\n"
     ]
    }
   ],
   "source": [
    "DataAll = {ticker: yf.download(ticker, start='2022-01-01', end='2022-02-28') for ticker in ['AAPL', 'MSFT', 'GOOG']}"
   ]
  },
  {
   "cell_type": "code",
   "execution_count": 169,
   "id": "51f362d3",
   "metadata": {},
   "outputs": [
    {
     "data": {
      "text/plain": [
       "{'AAPL':                  Open       High        Low      Close  Adj Close     Volume\n",
       " Date                                                                        \n",
       " 2020-01-02  74.059998  75.150002  73.797501  75.087502  73.449387  135480400\n",
       " 2020-01-03  74.287498  75.144997  74.125000  74.357498  72.735306  146322800\n",
       " 2020-01-06  73.447502  74.989998  73.187500  74.949997  73.314888  118387200\n",
       " 2020-01-07  74.959999  75.224998  74.370003  74.597504  72.970085  108872000\n",
       " 2020-01-08  74.290001  76.110001  74.290001  75.797501  74.143906  132079200\n",
       " 2020-01-09  76.809998  77.607498  76.550003  77.407501  75.718781  170108400\n",
       " 2020-01-10  77.650002  78.167503  77.062500  77.582497  75.889969  140644800\n",
       " 2020-01-13  77.910004  79.267502  77.787498  79.239998  77.511307  121532000\n",
       " 2020-01-14  79.175003  79.392502  78.042503  78.169998  76.464638  161954400\n",
       " 2020-01-15  77.962502  78.875000  77.387497  77.834999  76.136948  121923600\n",
       " 2020-01-16  78.397499  78.925003  78.022499  78.809998  77.090675  108829200\n",
       " 2020-01-17  79.067497  79.684998  78.750000  79.682503  77.944160  137816400\n",
       " 2020-01-21  79.297501  79.754997  79.000000  79.142502  77.415924  110843200\n",
       " 2020-01-22  79.644997  79.997498  79.327499  79.425003  77.692253  101832400\n",
       " 2020-01-23  79.480003  79.889999  78.912498  79.807503  78.066429  104472000\n",
       " 2020-01-24  80.062500  80.832497  79.379997  79.577499  77.841438  146537600\n",
       " 2020-01-27  77.514999  77.942497  76.220001  77.237503  75.552475  161940000\n",
       " 2020-01-28  78.150002  79.599998  78.047501  79.422501  77.689819  162234000\n",
       " 2020-01-29  81.112503  81.962502  80.345001  81.084999  79.316055  216229200\n",
       " 2020-01-30  80.135002  81.022499  79.687500  80.967499  79.201096  126743200\n",
       " 2020-01-31  80.232498  80.669998  77.072502  77.377502  75.689430  199588400\n",
       " 2020-02-03  76.074997  78.372498  75.555000  77.165001  75.481560  173788400\n",
       " 2020-02-04  78.827499  79.910004  78.407501  79.712502  77.973503  136616400\n",
       " 2020-02-05  80.879997  81.190002  79.737503  80.362503  78.609314  118826800\n",
       " 2020-02-06  80.642502  81.305000  80.065002  81.302498  79.528816  105425600\n",
       " 2020-02-07  80.592499  80.849998  79.500000  80.007500  78.447800  117684000\n",
       " 2020-02-10  78.544998  80.387497  78.462502  80.387497  78.820389  109348800\n",
       " 2020-02-11  80.900002  80.974998  79.677498  79.902496  78.344833   94323200\n",
       " 2020-02-12  80.367500  81.805000  80.367500  81.800003  80.205353  113730400\n",
       " 2020-02-13  81.047501  81.555000  80.837502  81.217499  79.634193   94747600\n",
       " 2020-02-14  81.184998  81.495003  80.712502  81.237503  79.653824   80113600\n",
       " 2020-02-18  78.839996  79.937500  78.652496  79.750000  78.195320  152531200\n",
       " 2020-02-19  80.000000  81.142502  80.000000  80.904999  79.327797   93984000\n",
       " 2020-02-20  80.657501  81.162498  79.552498  80.074997  78.513977  100566000\n",
       " 2020-02-21  79.654999  80.112503  77.625000  78.262497  76.736809  129554000\n",
       " 2020-02-24  74.315002  76.044998  72.307503  74.544998  73.091774  222195200\n",
       " 2020-02-25  75.237503  75.632500  71.532501  72.019997  70.616005  230673600\n",
       " 2020-02-26  71.632500  74.470001  71.625000  73.162498  71.736237  198054800\n",
       " 2020-02-27  70.275002  71.500000  68.239998  68.379997  67.046959  320605600\n",
       " 2020-02-28  64.315002  69.602501  64.092499  68.339996  67.007744  426510000\n",
       " 2020-03-02  70.570000  75.360001  69.430000  74.702499  73.246223  341397200,\n",
       " 'MSFT':                   Open        High         Low       Close   Adj Close  \\\n",
       " Date                                                                     \n",
       " 2020-01-02  158.779999  160.729996  158.330002  160.619995  155.761826   \n",
       " 2020-01-03  158.320007  159.949997  158.059998  158.619995  153.822311   \n",
       " 2020-01-06  157.080002  159.100006  156.509995  159.029999  154.219925   \n",
       " 2020-01-07  159.320007  159.669998  157.320007  157.580002  152.813751   \n",
       " 2020-01-08  158.929993  160.800003  157.949997  160.089996  155.247803   \n",
       " 2020-01-09  161.839996  162.220001  161.029999  162.089996  157.187347   \n",
       " 2020-01-10  162.820007  163.220001  161.179993  161.339996  156.460022   \n",
       " 2020-01-13  161.759995  163.309998  161.259995  163.279999  158.341354   \n",
       " 2020-01-14  163.389999  163.600006  161.720001  162.130005  157.226151   \n",
       " 2020-01-15  162.619995  163.940002  162.570007  163.179993  158.244354   \n",
       " 2020-01-16  164.350006  166.240005  164.029999  166.169998  161.143951   \n",
       " 2020-01-17  167.419998  167.470001  165.429993  167.100006  162.045792   \n",
       " 2020-01-21  166.679993  168.190002  166.429993  166.500000  161.463959   \n",
       " 2020-01-22  167.399994  167.490005  165.679993  165.699997  160.688126   \n",
       " 2020-01-23  166.190002  166.800003  165.270004  166.720001  161.677338   \n",
       " 2020-01-24  167.509995  167.529999  164.449997  165.039993  160.048111   \n",
       " 2020-01-27  161.149994  163.380005  160.199997  162.279999  157.371628   \n",
       " 2020-01-28  163.779999  165.759995  163.070007  165.460007  160.455460   \n",
       " 2020-01-29  167.839996  168.750000  165.690002  168.039993  162.957367   \n",
       " 2020-01-30  174.050003  174.050003  170.789993  172.779999  167.554016   \n",
       " 2020-01-31  172.210007  172.399994  169.580002  170.229996  165.081131   \n",
       " 2020-02-03  170.429993  174.500000  170.399994  174.380005  169.105621   \n",
       " 2020-02-04  177.139999  180.639999  176.309998  180.119995  174.671982   \n",
       " 2020-02-05  184.029999  184.199997  178.410004  179.899994  174.458649   \n",
       " 2020-02-06  180.970001  183.820007  180.059998  183.630005  178.075867   \n",
       " 2020-02-07  182.850006  185.630005  182.479996  183.889999  178.327942   \n",
       " 2020-02-10  183.580002  188.839996  183.250000  188.699997  182.992477   \n",
       " 2020-02-11  190.649994  190.699997  183.500000  184.440002  178.861328   \n",
       " 2020-02-12  185.580002  185.850006  181.850006  184.710007  179.123169   \n",
       " 2020-02-13  183.080002  186.229996  182.869995  183.710007  178.153412   \n",
       " 2020-02-14  183.250000  185.410004  182.649994  185.350006  179.743820   \n",
       " 2020-02-18  185.610001  187.699997  185.500000  187.229996  181.566956   \n",
       " 2020-02-19  188.059998  188.179993  186.470001  187.279999  182.111496   \n",
       " 2020-02-20  186.949997  187.250000  181.100006  184.419998  179.330429   \n",
       " 2020-02-21  183.169998  183.500000  177.250000  178.589996  173.661316   \n",
       " 2020-02-24  167.770004  174.550003  163.229996  170.889999  166.173843   \n",
       " 2020-02-25  174.199997  174.839996  167.649994  168.070007  163.431656   \n",
       " 2020-02-26  169.710007  173.259995  168.210007  170.169998  165.473724   \n",
       " 2020-02-27  163.320007  167.029999  157.979996  158.179993  153.814590   \n",
       " 2020-02-28  152.410004  163.710007  152.000000  162.009995  157.538910   \n",
       " 2020-03-02  165.309998  172.919998  162.309998  172.789993  168.021362   \n",
       " \n",
       "               Volume  \n",
       " Date                  \n",
       " 2020-01-02  22622100  \n",
       " 2020-01-03  21116200  \n",
       " 2020-01-06  20813700  \n",
       " 2020-01-07  21634100  \n",
       " 2020-01-08  27746500  \n",
       " 2020-01-09  21385000  \n",
       " 2020-01-10  20725900  \n",
       " 2020-01-13  21626500  \n",
       " 2020-01-14  23477400  \n",
       " 2020-01-15  21417900  \n",
       " 2020-01-16  23865400  \n",
       " 2020-01-17  34371700  \n",
       " 2020-01-21  29517200  \n",
       " 2020-01-22  24138800  \n",
       " 2020-01-23  19680800  \n",
       " 2020-01-24  24918100  \n",
       " 2020-01-27  32078100  \n",
       " 2020-01-28  24899900  \n",
       " 2020-01-29  34754500  \n",
       " 2020-01-30  51597500  \n",
       " 2020-01-31  36142700  \n",
       " 2020-02-03  30107000  \n",
       " 2020-02-04  36433300  \n",
       " 2020-02-05  39186300  \n",
       " 2020-02-06  27751400  \n",
       " 2020-02-07  33529100  \n",
       " 2020-02-10  35844300  \n",
       " 2020-02-11  53159900  \n",
       " 2020-02-12  47062900  \n",
       " 2020-02-13  35295800  \n",
       " 2020-02-14  23149500  \n",
       " 2020-02-18  27792200  \n",
       " 2020-02-19  29997500  \n",
       " 2020-02-20  36862400  \n",
       " 2020-02-21  48572600  \n",
       " 2020-02-24  68311100  \n",
       " 2020-02-25  68073300  \n",
       " 2020-02-26  56206100  \n",
       " 2020-02-27  93174900  \n",
       " 2020-02-28  97012700  \n",
       " 2020-03-02  71030800  ,\n",
       " 'GOOG':                  Open       High        Low      Close  Adj Close    Volume\n",
       " Date                                                                       \n",
       " 2020-01-02  67.077499  68.406998  67.077499  68.368500  68.368500  28132000\n",
       " 2020-01-03  67.392998  68.625000  67.277199  68.032997  68.032997  23728000\n",
       " 2020-01-06  67.500000  69.824997  67.500000  69.710503  69.710503  34646000\n",
       " 2020-01-07  69.897003  70.149498  69.518997  69.667000  69.667000  30054000\n",
       " 2020-01-08  69.603996  70.579002  69.542000  70.216003  70.216003  30560000\n",
       " 2020-01-09  71.028503  71.366501  70.513496  70.991501  70.991501  30018000\n",
       " 2020-01-10  71.377998  71.746452  70.917503  71.486504  71.486504  36414000\n",
       " 2020-01-13  71.806503  72.026001  71.301003  71.961502  71.961502  33046000\n",
       " 2020-01-14  71.950500  72.089996  71.418503  71.543999  71.543999  31178000\n",
       " 2020-01-15  71.510498  72.069748  71.510498  71.959999  71.959999  25654000\n",
       " 2020-01-16  72.372002  72.599503  72.045998  72.584999  72.584999  23474000\n",
       " 2020-01-17  73.145500  74.064751  72.911003  74.019501  74.019501  47924000\n",
       " 2020-01-21  73.956001  74.592499  73.559998  74.220001  74.220001  40734000\n",
       " 2020-01-22  74.550003  75.160698  74.246498  74.297501  74.297501  32216000\n",
       " 2020-01-23  74.382004  74.776001  74.105003  74.332497  74.332497  27024000\n",
       " 2020-01-24  74.679497  74.774750  73.262497  73.335503  73.335503  35692000\n",
       " 2020-01-27  71.550003  71.903503  71.059998  71.695000  71.695000  35104000\n",
       " 2020-01-28  72.150002  72.800003  71.623497  72.627998  72.627998  31548000\n",
       " 2020-01-29  72.940002  73.271500  72.336998  72.931503  72.931503  21554000\n",
       " 2020-01-30  71.998001  72.863998  71.820000  72.792000  72.792000  26788000\n",
       " 2020-01-31  73.445000  73.506500  71.426498  71.711502  71.711502  48344000\n",
       " 2020-02-03  73.099998  74.500000  72.949501  74.296997  74.296997  60736000\n",
       " 2020-02-04  72.853500  73.474998  71.315002  72.353500  72.353500  78660000\n",
       " 2020-02-05  73.121002  73.192001  71.528000  72.411499  72.411499  39724000\n",
       " 2020-02-06  72.516502  74.099998  72.478500  73.811501  73.811501  33588000\n",
       " 2020-02-07  73.364998  74.292000  73.317497  73.961502  73.961502  23446000\n",
       " 2020-02-10  73.716003  75.474998  73.716003  75.433998  75.433998  28398000\n",
       " 2020-02-11  75.590500  76.481499  75.281898  75.439499  75.439499  26892000\n",
       " 2020-02-12  75.723999  76.034752  75.405502  75.913498  75.913498  23352000\n",
       " 2020-02-13  75.634499  76.359001  75.230003  75.733002  75.733002  18590000\n",
       " 2020-02-14  75.779999  76.037003  75.366997  76.037003  76.037003  23956000\n",
       " 2020-02-18  75.750000  76.581497  75.629501  75.983498  75.983498  22414000\n",
       " 2020-02-19  76.253502  76.605301  76.070000  76.334503  76.334503  18986000\n",
       " 2020-02-20  76.099998  76.482002  75.341003  75.907501  75.907501  21932000\n",
       " 2020-02-21  75.401497  75.610748  74.022003  74.255501  74.255501  34634000\n",
       " 2020-02-24  71.305496  71.848503  70.569504  71.079498  71.079498  57342000\n",
       " 2020-02-25  71.650002  71.906998  69.120003  69.422501  69.422501  49566000\n",
       " 2020-02-26  69.806999  70.785004  68.949997  69.658997  69.658997  44048000\n",
       " 2020-02-27  68.102997  68.585197  65.858498  65.904503  65.904503  59566000\n",
       " 2020-02-28  63.875000  67.056999  63.549999  66.966499  66.966499  75782000\n",
       " 2020-03-02  67.580498  69.543503  66.340752  69.455498  69.455498  48630000}"
      ]
     },
     "execution_count": 169,
     "metadata": {},
     "output_type": "execute_result"
    }
   ],
   "source": [
    "DataAll\n"
   ]
  },
  {
   "cell_type": "code",
   "execution_count": null,
   "id": "ce0d0c7d",
   "metadata": {},
   "outputs": [],
   "source": []
  }
 ],
 "metadata": {
  "kernelspec": {
   "display_name": "Python 3 (ipykernel)",
   "language": "python",
   "name": "python3"
  },
  "language_info": {
   "codemirror_mode": {
    "name": "ipython",
    "version": 3
   },
   "file_extension": ".py",
   "mimetype": "text/x-python",
   "name": "python",
   "nbconvert_exporter": "python",
   "pygments_lexer": "ipython3",
   "version": "3.9.13"
  }
 },
 "nbformat": 4,
 "nbformat_minor": 5
}
