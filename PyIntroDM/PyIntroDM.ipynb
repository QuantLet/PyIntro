{
 "cells": [
  {
   "cell_type": "markdown",
   "id": "8fc30fd0",
   "metadata": {},
   "source": [
    "## Data Manipulation"
   ]
  },
  {
   "cell_type": "markdown",
   "id": "55677c48",
   "metadata": {},
   "source": [
    "Panda package provides multiple methods to read various type of data, (including hierarchical indexing)."
   ]
  },
  {
   "cell_type": "code",
   "execution_count": 4,
   "id": "97e4212e",
   "metadata": {},
   "outputs": [],
   "source": [
    "import pandas as pd"
   ]
  },
  {
   "cell_type": "code",
   "execution_count": 16,
   "id": "a92bcca4",
   "metadata": {},
   "outputs": [
    {
     "data": {
      "text/html": [
       "<div>\n",
       "<style scoped>\n",
       "    .dataframe tbody tr th:only-of-type {\n",
       "        vertical-align: middle;\n",
       "    }\n",
       "\n",
       "    .dataframe tbody tr th {\n",
       "        vertical-align: top;\n",
       "    }\n",
       "\n",
       "    .dataframe thead th {\n",
       "        text-align: right;\n",
       "    }\n",
       "</style>\n",
       "<table border=\"1\" class=\"dataframe\">\n",
       "  <thead>\n",
       "    <tr style=\"text-align: right;\">\n",
       "      <th></th>\n",
       "      <th>length</th>\n",
       "      <th>heightL</th>\n",
       "      <th>heightR</th>\n",
       "      <th>frameLB</th>\n",
       "      <th>frameUB</th>\n",
       "      <th>diag</th>\n",
       "    </tr>\n",
       "  </thead>\n",
       "  <tbody>\n",
       "    <tr>\n",
       "      <th>0</th>\n",
       "      <td>214.8</td>\n",
       "      <td>131.0</td>\n",
       "      <td>131.1</td>\n",
       "      <td>9.0</td>\n",
       "      <td>9.7</td>\n",
       "      <td>141.0</td>\n",
       "    </tr>\n",
       "    <tr>\n",
       "      <th>1</th>\n",
       "      <td>214.6</td>\n",
       "      <td>129.7</td>\n",
       "      <td>129.7</td>\n",
       "      <td>8.1</td>\n",
       "      <td>9.5</td>\n",
       "      <td>141.7</td>\n",
       "    </tr>\n",
       "    <tr>\n",
       "      <th>2</th>\n",
       "      <td>214.8</td>\n",
       "      <td>129.7</td>\n",
       "      <td>129.7</td>\n",
       "      <td>8.7</td>\n",
       "      <td>9.6</td>\n",
       "      <td>142.2</td>\n",
       "    </tr>\n",
       "    <tr>\n",
       "      <th>3</th>\n",
       "      <td>214.8</td>\n",
       "      <td>129.7</td>\n",
       "      <td>129.6</td>\n",
       "      <td>7.5</td>\n",
       "      <td>10.4</td>\n",
       "      <td>142.0</td>\n",
       "    </tr>\n",
       "    <tr>\n",
       "      <th>4</th>\n",
       "      <td>215.0</td>\n",
       "      <td>129.6</td>\n",
       "      <td>129.7</td>\n",
       "      <td>10.4</td>\n",
       "      <td>7.7</td>\n",
       "      <td>141.8</td>\n",
       "    </tr>\n",
       "  </tbody>\n",
       "</table>\n",
       "</div>"
      ],
      "text/plain": [
       "   length  heightL  heightR  frameLB  frameUB   diag\n",
       "0   214.8    131.0    131.1      9.0      9.7  141.0\n",
       "1   214.6    129.7    129.7      8.1      9.5  141.7\n",
       "2   214.8    129.7    129.7      8.7      9.6  142.2\n",
       "3   214.8    129.7    129.6      7.5     10.4  142.0\n",
       "4   215.0    129.6    129.7     10.4      7.7  141.8"
      ]
     },
     "execution_count": 16,
     "metadata": {},
     "output_type": "execute_result"
    }
   ],
   "source": [
    "datacolnames = ['length','heightL','heightR','frameLB','frameUB','diag']\n",
    "data_notes = pd.read_table(\"bank2.dat\", names=datacolnames, sep = \"\\s+\", header=None, na_values=['NULL'])\n",
    "#data = pd.read_csv(\"bank2.dat\", sep = \"\\s+\", header=None)\n",
    "data_notes.head()"
   ]
  },
  {
   "cell_type": "code",
   "execution_count": 14,
   "id": "73b5d2d6",
   "metadata": {},
   "outputs": [
    {
     "data": {
      "text/html": [
       "<div>\n",
       "<style scoped>\n",
       "    .dataframe tbody tr th:only-of-type {\n",
       "        vertical-align: middle;\n",
       "    }\n",
       "\n",
       "    .dataframe tbody tr th {\n",
       "        vertical-align: top;\n",
       "    }\n",
       "\n",
       "    .dataframe thead th {\n",
       "        text-align: right;\n",
       "    }\n",
       "</style>\n",
       "<table border=\"1\" class=\"dataframe\">\n",
       "  <thead>\n",
       "    <tr style=\"text-align: right;\">\n",
       "      <th></th>\n",
       "      <th></th>\n",
       "      <th>value1</th>\n",
       "      <th>value2</th>\n",
       "    </tr>\n",
       "    <tr>\n",
       "      <th>key1</th>\n",
       "      <th>key2</th>\n",
       "      <th></th>\n",
       "      <th></th>\n",
       "    </tr>\n",
       "  </thead>\n",
       "  <tbody>\n",
       "    <tr>\n",
       "      <th rowspan=\"4\" valign=\"top\">one</th>\n",
       "      <th>a</th>\n",
       "      <td>1</td>\n",
       "      <td>2</td>\n",
       "    </tr>\n",
       "    <tr>\n",
       "      <th>b</th>\n",
       "      <td>3</td>\n",
       "      <td>4</td>\n",
       "    </tr>\n",
       "    <tr>\n",
       "      <th>c</th>\n",
       "      <td>5</td>\n",
       "      <td>6</td>\n",
       "    </tr>\n",
       "    <tr>\n",
       "      <th>d</th>\n",
       "      <td>7</td>\n",
       "      <td>8</td>\n",
       "    </tr>\n",
       "    <tr>\n",
       "      <th rowspan=\"4\" valign=\"top\">two</th>\n",
       "      <th>a</th>\n",
       "      <td>9</td>\n",
       "      <td>10</td>\n",
       "    </tr>\n",
       "    <tr>\n",
       "      <th>b</th>\n",
       "      <td>11</td>\n",
       "      <td>12</td>\n",
       "    </tr>\n",
       "    <tr>\n",
       "      <th>c</th>\n",
       "      <td>13</td>\n",
       "      <td>14</td>\n",
       "    </tr>\n",
       "    <tr>\n",
       "      <th>d</th>\n",
       "      <td>15</td>\n",
       "      <td>16</td>\n",
       "    </tr>\n",
       "  </tbody>\n",
       "</table>\n",
       "</div>"
      ],
      "text/plain": [
       "           value1  value2\n",
       "key1 key2                \n",
       "one  a          1       2\n",
       "     b          3       4\n",
       "     c          5       6\n",
       "     d          7       8\n",
       "two  a          9      10\n",
       "     b         11      12\n",
       "     c         13      14\n",
       "     d         15      16"
      ]
     },
     "execution_count": 14,
     "metadata": {},
     "output_type": "execute_result"
    }
   ],
   "source": [
    "data_mind = pd.read_csv(\"csv_multiindex.csv\", index_col=[\"key1\", \"key2\"])\n",
    "data_mind"
   ]
  },
  {
   "cell_type": "markdown",
   "id": "e9d60317",
   "metadata": {},
   "source": [
    " "
   ]
  },
  {
   "cell_type": "markdown",
   "id": "2feaa96a",
   "metadata": {},
   "source": [
    "Dataset can be also <b>read and written</b> in various formats."
   ]
  },
  {
   "cell_type": "code",
   "execution_count": 20,
   "id": "e608588e",
   "metadata": {},
   "outputs": [],
   "source": [
    "data_notes.to_csv(\"notes_out.csv\",sep=\"|\",index=False, header=True,na_rep=\"NULL\")"
   ]
  },
  {
   "cell_type": "markdown",
   "id": "dac694d4",
   "metadata": {},
   "source": [
    "<b>Serialisation</b> is a very handy way to store the data in a binary format.\n",
    "\n",
    "(But be careful about versioning of libraries and issues with storing over long time period)"
   ]
  },
  {
   "cell_type": "code",
   "execution_count": 22,
   "id": "9a322e15",
   "metadata": {},
   "outputs": [],
   "source": [
    "data_notes.to_pickle('data_notes_pickle')"
   ]
  },
  {
   "cell_type": "markdown",
   "id": "7a16df69",
   "metadata": {},
   "source": [
    "There are also many libraries for read&parse xml and html (incl. web-scraping)\n",
    "\n",
    "Pandas is using many of them to parse all tabular data by default, (see read_hhtl command for detail)."
   ]
  },
  {
   "cell_type": "code",
   "execution_count": null,
   "id": "0fb214e1",
   "metadata": {},
   "outputs": [],
   "source": [
    "#conda install lhtml\n",
    "#pip install beautifulsoup4 html5lib\n",
    "#from lxml import objectify\n",
    "#parsed_data = objectify.parse(data_path_string)"
   ]
  },
  {
   "cell_type": "markdown",
   "id": "3ec5678b",
   "metadata": {},
   "source": [
    "Various web APIs can be accessed f.e. via request package\n"
   ]
  },
  {
   "cell_type": "code",
   "execution_count": 26,
   "id": "e4e35f2a",
   "metadata": {},
   "outputs": [],
   "source": [
    "#import requests\n",
    "#data_url = 'our_path'\n",
    "#web_data = request.get(data_url)\n",
    "#dict_data = web_data.json()"
   ]
  },
  {
   "cell_type": "code",
   "execution_count": null,
   "id": "9e683242",
   "metadata": {},
   "outputs": [],
   "source": []
  }
 ],
 "metadata": {
  "kernelspec": {
   "display_name": "Python 3 (ipykernel)",
   "language": "python",
   "name": "python3"
  },
  "language_info": {
   "codemirror_mode": {
    "name": "ipython",
    "version": 3
   },
   "file_extension": ".py",
   "mimetype": "text/x-python",
   "name": "python",
   "nbconvert_exporter": "python",
   "pygments_lexer": "ipython3",
   "version": "3.9.13"
  }
 },
 "nbformat": 4,
 "nbformat_minor": 5
}
